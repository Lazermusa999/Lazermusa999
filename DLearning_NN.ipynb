{
  "nbformat": 4,
  "nbformat_minor": 0,
  "metadata": {
    "colab": {
      "name": "DLearning_NN.ipynb",
      "provenance": [],
      "authorship_tag": "ABX9TyOMzz56fj0Y6hU8/CNnmcdm",
      "include_colab_link": true
    },
    "kernelspec": {
      "name": "python3",
      "display_name": "Python 3"
    },
    "language_info": {
      "name": "python"
    }
  },
  "cells": [
    {
      "cell_type": "markdown",
      "metadata": {
        "id": "view-in-github",
        "colab_type": "text"
      },
      "source": [
        "<a href=\"https://colab.research.google.com/github/musaoc/Lazermusa999/blob/master/DLearning_NN.ipynb\" target=\"_parent\"><img src=\"https://colab.research.google.com/assets/colab-badge.svg\" alt=\"Open In Colab\"/></a>"
      ]
    },
    {
      "cell_type": "code",
      "execution_count": 5,
      "metadata": {
        "id": "QpbTBKrbfQQG"
      },
      "outputs": [],
      "source": [
        "import tensorflow as tf\n",
        "import numpy as np\n",
        "import keras"
      ]
    },
    {
      "cell_type": "code",
      "source": [
        "#units is the number of neural networks\n",
        "model = tf.keras.Sequential([keras.layers.Dense(units=1,input_shape=[1])]) \n",
        "model.compile(optimizer='sgd',loss='mean_squared_error')"
      ],
      "metadata": {
        "id": "1lUX2A0QfTSV"
      },
      "execution_count": 32,
      "outputs": []
    },
    {
      "cell_type": "code",
      "source": [
        "#making numpy arrays\n",
        "xs= np.array([1.0,2.0,3.0,4.0,5.0])\n",
        "ys= np.array([1000.0,2000.0,3000.0,4000.0,5000.0])\n",
        "#epochs is the number of times the loop will run\n",
        "model.fit(xs,ys,epochs=50)\n",
        "\n",
        "print('---'*10)\n",
        "print(model.predict([6.0]))"
      ],
      "metadata": {
        "colab": {
          "base_uri": "https://localhost:8080/"
        },
        "id": "LLqU350HfTVj",
        "outputId": "a14a118f-2645-4965-d29e-49246373bf77"
      },
      "execution_count": 34,
      "outputs": [
        {
          "output_type": "stream",
          "name": "stdout",
          "text": [
            "Epoch 1/50\n",
            "1/1 [==============================] - 0s 10ms/step - loss: 8910399.0000\n",
            "Epoch 2/50\n",
            "1/1 [==============================] - 0s 13ms/step - loss: 5196707.0000\n",
            "Epoch 3/50\n",
            "1/1 [==============================] - 0s 10ms/step - loss: 3032524.2500\n",
            "Epoch 4/50\n",
            "1/1 [==============================] - 0s 9ms/step - loss: 1771317.6250\n",
            "Epoch 5/50\n",
            "1/1 [==============================] - 0s 8ms/step - loss: 1036321.3750\n",
            "Epoch 6/50\n",
            "1/1 [==============================] - 0s 7ms/step - loss: 607974.0000\n",
            "Epoch 7/50\n",
            "1/1 [==============================] - 0s 7ms/step - loss: 358327.0625\n",
            "Epoch 8/50\n",
            "1/1 [==============================] - 0s 7ms/step - loss: 212817.8438\n",
            "Epoch 9/50\n",
            "1/1 [==============================] - 0s 8ms/step - loss: 127995.3750\n",
            "Epoch 10/50\n",
            "1/1 [==============================] - 0s 8ms/step - loss: 78538.0625\n",
            "Epoch 11/50\n",
            "1/1 [==============================] - 0s 8ms/step - loss: 49690.1562\n",
            "Epoch 12/50\n",
            "1/1 [==============================] - 0s 8ms/step - loss: 32852.6758\n",
            "Epoch 13/50\n",
            "1/1 [==============================] - 0s 9ms/step - loss: 23014.3418\n",
            "Epoch 14/50\n",
            "1/1 [==============================] - 0s 8ms/step - loss: 17254.8340\n",
            "Epoch 15/50\n",
            "1/1 [==============================] - 0s 10ms/step - loss: 13872.5371\n",
            "Epoch 16/50\n",
            "1/1 [==============================] - 0s 7ms/step - loss: 11875.7490\n",
            "Epoch 17/50\n",
            "1/1 [==============================] - 0s 8ms/step - loss: 10686.5254\n",
            "Epoch 18/50\n",
            "1/1 [==============================] - 0s 9ms/step - loss: 9968.0762\n",
            "Epoch 19/50\n",
            "1/1 [==============================] - 0s 7ms/step - loss: 9524.1631\n",
            "Epoch 20/50\n",
            "1/1 [==============================] - 0s 7ms/step - loss: 9240.3848\n",
            "Epoch 21/50\n",
            "1/1 [==============================] - 0s 6ms/step - loss: 9050.1045\n",
            "Epoch 22/50\n",
            "1/1 [==============================] - 0s 9ms/step - loss: 8914.4902\n",
            "Epoch 23/50\n",
            "1/1 [==============================] - 0s 7ms/step - loss: 8810.8721\n",
            "Epoch 24/50\n",
            "1/1 [==============================] - 0s 8ms/step - loss: 8726.0791\n",
            "Epoch 25/50\n",
            "1/1 [==============================] - 0s 7ms/step - loss: 8652.4316\n",
            "Epoch 26/50\n",
            "1/1 [==============================] - 0s 8ms/step - loss: 8585.4160\n",
            "Epoch 27/50\n",
            "1/1 [==============================] - 0s 7ms/step - loss: 8522.4561\n",
            "Epoch 28/50\n",
            "1/1 [==============================] - 0s 7ms/step - loss: 8462.0088\n",
            "Epoch 29/50\n",
            "1/1 [==============================] - 0s 6ms/step - loss: 8403.1816\n",
            "Epoch 30/50\n",
            "1/1 [==============================] - 0s 6ms/step - loss: 8345.4697\n",
            "Epoch 31/50\n",
            "1/1 [==============================] - 0s 7ms/step - loss: 8288.5488\n",
            "Epoch 32/50\n",
            "1/1 [==============================] - 0s 7ms/step - loss: 8232.2686\n",
            "Epoch 33/50\n",
            "1/1 [==============================] - 0s 7ms/step - loss: 8176.4912\n",
            "Epoch 34/50\n",
            "1/1 [==============================] - 0s 7ms/step - loss: 8121.1782\n",
            "Epoch 35/50\n",
            "1/1 [==============================] - 0s 7ms/step - loss: 8066.2876\n",
            "Epoch 36/50\n",
            "1/1 [==============================] - 0s 7ms/step - loss: 8011.7979\n",
            "Epoch 37/50\n",
            "1/1 [==============================] - 0s 6ms/step - loss: 7957.7031\n",
            "Epoch 38/50\n",
            "1/1 [==============================] - 0s 12ms/step - loss: 7903.9688\n",
            "Epoch 39/50\n",
            "1/1 [==============================] - 0s 8ms/step - loss: 7850.6157\n",
            "Epoch 40/50\n",
            "1/1 [==============================] - 0s 8ms/step - loss: 7797.5952\n",
            "Epoch 41/50\n",
            "1/1 [==============================] - 0s 7ms/step - loss: 7744.9580\n",
            "Epoch 42/50\n",
            "1/1 [==============================] - 0s 8ms/step - loss: 7692.6812\n",
            "Epoch 43/50\n",
            "1/1 [==============================] - 0s 7ms/step - loss: 7640.7437\n",
            "Epoch 44/50\n",
            "1/1 [==============================] - 0s 7ms/step - loss: 7589.1616\n",
            "Epoch 45/50\n",
            "1/1 [==============================] - 0s 8ms/step - loss: 7537.9404\n",
            "Epoch 46/50\n",
            "1/1 [==============================] - 0s 9ms/step - loss: 7487.0562\n",
            "Epoch 47/50\n",
            "1/1 [==============================] - 0s 7ms/step - loss: 7436.5181\n",
            "Epoch 48/50\n",
            "1/1 [==============================] - 0s 8ms/step - loss: 7386.3037\n",
            "Epoch 49/50\n",
            "1/1 [==============================] - 0s 7ms/step - loss: 7336.4492\n",
            "Epoch 50/50\n",
            "1/1 [==============================] - 0s 10ms/step - loss: 7286.9297\n",
            "------------------------------\n",
            "[[5868.0034]]\n"
          ]
        }
      ]
    },
    {
      "cell_type": "code",
      "source": [
        "model = tf.keras.Sequential([keras.layers.Dense(units=1,input_shape=[1])])"
      ],
      "metadata": {
        "id": "4siIlismfTZD"
      },
      "execution_count": null,
      "outputs": []
    },
    {
      "cell_type": "code",
      "source": [
        ""
      ],
      "metadata": {
        "id": "2Ltpwy75fTb0"
      },
      "execution_count": null,
      "outputs": []
    },
    {
      "cell_type": "code",
      "source": [
        ""
      ],
      "metadata": {
        "id": "9Wxl1bhUfTgE"
      },
      "execution_count": null,
      "outputs": []
    },
    {
      "cell_type": "code",
      "source": [
        ""
      ],
      "metadata": {
        "id": "dJjMpkmafTkB"
      },
      "execution_count": null,
      "outputs": []
    },
    {
      "cell_type": "code",
      "source": [
        ""
      ],
      "metadata": {
        "id": "sySqOV_AfTne"
      },
      "execution_count": null,
      "outputs": []
    }
  ]
}